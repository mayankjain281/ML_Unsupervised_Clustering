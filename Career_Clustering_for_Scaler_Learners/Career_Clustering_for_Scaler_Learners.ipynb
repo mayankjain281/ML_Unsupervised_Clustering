{
 "cells": [
  {
   "cell_type": "code",
   "execution_count": 123,
   "id": "67c88281-7b3e-4f86-b090-3b9fbcb7304d",
   "metadata": {
    "tags": []
   },
   "outputs": [],
   "source": [
    "import webbrowser as wb\n",
    "wb.open(\"https://www.scaler.com/academy/mentee-dashboard/class/122247/project/problems/19753?navref=cl_tt_crd_sl\")\n",
    "path=!cd\n",
    "import os\n",
    "os.startfile(path[0]+'\\\\Other')"
   ]
  },
  {
   "cell_type": "markdown",
   "id": "07f341c0-7696-4ae6-8618-8530815364fa",
   "metadata": {},
   "source": [
    "### Business and Problem Understanding"
   ]
  },
  {
   "cell_type": "markdown",
   "id": "2380f638-974e-4dab-920e-58fdb02a148b",
   "metadata": {},
   "source": [
    "Problem Statement\n",
    "- Scaler is an online tech-versity offering intensive computer science & Data Science courses through live classes delivered by tech\n",
    "leaders and subject matter experts.\n",
    "- The meticulously structured program enhances the skills of software professionals by offering a modern curriculum with exposure to\n",
    "the latest technologies. It is a product by InterviewBit.\n",
    "- You are working as a data scientist with the analytics vertical of Scaler, focused on profiling the best companies and job positions to\n",
    "work for from the Scaler database.\n",
    "- You are provided with the information for a segment of learners and tasked to cluster them on the basis of their job profile, company,\n",
    "and other features. Ideally, these clusters should have similar characteristics.\n",
    "\n",
    "Data Dictionary:\n",
    "- 'Unnamed 0'- Index of the dataset\n",
    "- Email_hash- Anonymised Personal Identifiable Information (PII)\n",
    "- Company_hash- Current employer of the learner\n",
    "- orgyear- Employment start date\n",
    "- CTC- Current CTC\n",
    "- Job_position- Job profile in the company\n",
    "- CTC_updated_year: Year in which CTC got updated (Yearly increments, Promotions)\n",
    "\n",
    "Concept Used:\n",
    "- Manual Clustering\n",
    "- Unsupervised Clustering - K- means, Hierarchical Clustering\n"
   ]
  },
  {
   "cell_type": "markdown",
   "id": "e249a0be-2cfe-483c-aa4a-1a52d63cddf7",
   "metadata": {},
   "source": [
    "Problem Statement and Data Analysis Approch\n",
    "\n",
    "We are given with the information for a segment of learners and are asked to cluster them on the basis of their job profile, company and other features. The created clusters should have similar characteristics.\n",
    "The shape of the dataset looks like we have around 2 lakh rows with 7 columns. There are few null values and categorical values present in the data.\n",
    "By describing the data, we get to know information about statistics of the data.\n",
    "From the data, it can be referred that there are few outliers present to the data that should be removed.\n",
    "As there are few null value rows in the dataset, hence need to fill the missing values.\n",
    "        2. Hypothesis Testing\n",
    "There are few duplicate values present in the dataset after performing different steps, that are removed.\n",
    "There are some missing values present in the dataset and hence used the KNN Imputer to fill the missing values.\n",
    "For cleaning the company names, I have used regular expression to make them more proper.\n",
    "Data Encoding was done to different features.\n",
    "\n",
    "        3.  Manual Clustering\n",
    "Created Designation Flags. ( Designation: Salary an employee is getting wrt salary in the same Company, Job_Position & Years of Experience )\n",
    "Created Class Flags. ( Class: Salary an employee is getting wrt the salary in the same Company & Job_Position )\n",
    "Created Tier Flags. (  Tier: Salary an employee is getting wrt the salary in the same Company )\n",
    "       4. Unsupervised learning\n",
    "Checked for the cluster tendency using Hopkins score and Silhouette score.\n",
    "Hopkins Score - A value close to 1 tends to indicate the data is highly clustered, random data will tend to result in values around 0.5, and uniformly distributed data will tend to result in values close to 0.\n",
    "Created K-means clustering by finding the required number of clusters using Elbow method.\n",
    "Created Hierarchial Clustering by finding appropriate clusters through dendograms and built a agglomerative clustering based model.\n",
    "\n",
    "      5. Insights and Recommendations\n",
    "           Below example points can be answered from the built model. \n",
    "Macro Analysis\n",
    "1. Top 10 employees (earning more than most of the employees in the company) (tier 1) \n",
    "Top 10 employees of data science in Amazon / TCS etc earning more than their peers (class 1).\n",
    "Bottom 10 employees of data science in Amazon / TCS etc earning less than their peers (class 3) \n",
    "Bottom 10 employees (earning less than most of the employees in the company) (tier 3) \n",
    "Top 10 employees in the amazon- data science- having 5/6/7 years of experience earning more than their peers \n",
    "Micro Analysis\n",
    "Top 10 companies (basis on their offered CTC) - grouped_c, sort by descending, head(10) \n",
    "Top 2 positions in every company (basis on their offered CTC) - grouped_c_j, sort by descending, head(10)\n",
    "\n",
    "Drive Link for code - https://drive.google.com/file/d/1KnC5Rkr3s3FjTPRMskEcJMPYfWRsLmIj/view?usp=sharing\n"
   ]
  },
  {
   "cell_type": "markdown",
   "id": "de6bb760-fa52-4b76-a85d-5d4b4645ea0a",
   "metadata": {
    "jp-MarkdownHeadingCollapsed": true
   },
   "source": [
    "### Exploratory Data Analysis"
   ]
  },
  {
   "cell_type": "code",
   "execution_count": 40,
   "id": "74c7ce7d-1fdb-442f-a48f-04f7a40cb6c7",
   "metadata": {
    "tags": []
   },
   "outputs": [
    {
     "data": {
      "text/html": [
       "<div>\n",
       "<style scoped>\n",
       "    .dataframe tbody tr th:only-of-type {\n",
       "        vertical-align: middle;\n",
       "    }\n",
       "\n",
       "    .dataframe tbody tr th {\n",
       "        vertical-align: top;\n",
       "    }\n",
       "\n",
       "    .dataframe thead th {\n",
       "        text-align: right;\n",
       "    }\n",
       "</style>\n",
       "<table border=\"1\" class=\"dataframe\">\n",
       "  <thead>\n",
       "    <tr style=\"text-align: right;\">\n",
       "      <th></th>\n",
       "      <th>Unnamed: 0</th>\n",
       "      <th>company_hash</th>\n",
       "      <th>email_hash</th>\n",
       "      <th>orgyear</th>\n",
       "      <th>ctc</th>\n",
       "      <th>job_position</th>\n",
       "      <th>ctc_updated_year</th>\n",
       "    </tr>\n",
       "  </thead>\n",
       "  <tbody>\n",
       "    <tr>\n",
       "      <th>0</th>\n",
       "      <td>0</td>\n",
       "      <td>atrgxnnt xzaxv</td>\n",
       "      <td>6de0a4417d18ab14334c3f43397fc13b30c35149d70c05...</td>\n",
       "      <td>2016.0</td>\n",
       "      <td>1100000</td>\n",
       "      <td>Other</td>\n",
       "      <td>2020.0</td>\n",
       "    </tr>\n",
       "    <tr>\n",
       "      <th>1</th>\n",
       "      <td>1</td>\n",
       "      <td>qtrxvzwt xzegwgbb rxbxnta</td>\n",
       "      <td>b0aaf1ac138b53cb6e039ba2c3d6604a250d02d5145c10...</td>\n",
       "      <td>2018.0</td>\n",
       "      <td>449999</td>\n",
       "      <td>FullStack Engineer</td>\n",
       "      <td>2019.0</td>\n",
       "    </tr>\n",
       "    <tr>\n",
       "      <th>2</th>\n",
       "      <td>2</td>\n",
       "      <td>ojzwnvwnxw vx</td>\n",
       "      <td>4860c670bcd48fb96c02a4b0ae3608ae6fdd98176112e9...</td>\n",
       "      <td>2015.0</td>\n",
       "      <td>2000000</td>\n",
       "      <td>Backend Engineer</td>\n",
       "      <td>2020.0</td>\n",
       "    </tr>\n",
       "    <tr>\n",
       "      <th>3</th>\n",
       "      <td>3</td>\n",
       "      <td>ngpgutaxv</td>\n",
       "      <td>effdede7a2e7c2af664c8a31d9346385016128d66bbc58...</td>\n",
       "      <td>2017.0</td>\n",
       "      <td>700000</td>\n",
       "      <td>Backend Engineer</td>\n",
       "      <td>2019.0</td>\n",
       "    </tr>\n",
       "    <tr>\n",
       "      <th>4</th>\n",
       "      <td>4</td>\n",
       "      <td>qxen sqghu</td>\n",
       "      <td>6ff54e709262f55cb999a1c1db8436cb2055d8f79ab520...</td>\n",
       "      <td>2017.0</td>\n",
       "      <td>1400000</td>\n",
       "      <td>FullStack Engineer</td>\n",
       "      <td>2019.0</td>\n",
       "    </tr>\n",
       "    <tr>\n",
       "      <th>...</th>\n",
       "      <td>...</td>\n",
       "      <td>...</td>\n",
       "      <td>...</td>\n",
       "      <td>...</td>\n",
       "      <td>...</td>\n",
       "      <td>...</td>\n",
       "      <td>...</td>\n",
       "    </tr>\n",
       "    <tr>\n",
       "      <th>205838</th>\n",
       "      <td>206918</td>\n",
       "      <td>vuurt xzw</td>\n",
       "      <td>70027b728c8ee901fe979533ed94ffda97be08fc23f33b...</td>\n",
       "      <td>2008.0</td>\n",
       "      <td>220000</td>\n",
       "      <td>NaN</td>\n",
       "      <td>2019.0</td>\n",
       "    </tr>\n",
       "    <tr>\n",
       "      <th>205839</th>\n",
       "      <td>206919</td>\n",
       "      <td>husqvawgb</td>\n",
       "      <td>7f7292ffad724ebbe9ca860f515245368d714c84705b42...</td>\n",
       "      <td>2017.0</td>\n",
       "      <td>500000</td>\n",
       "      <td>NaN</td>\n",
       "      <td>2020.0</td>\n",
       "    </tr>\n",
       "    <tr>\n",
       "      <th>205840</th>\n",
       "      <td>206920</td>\n",
       "      <td>vwwgrxnt</td>\n",
       "      <td>cb25cc7304e9a24facda7f5567c7922ffc48e3d5d6018c...</td>\n",
       "      <td>2021.0</td>\n",
       "      <td>700000</td>\n",
       "      <td>NaN</td>\n",
       "      <td>2021.0</td>\n",
       "    </tr>\n",
       "    <tr>\n",
       "      <th>205841</th>\n",
       "      <td>206921</td>\n",
       "      <td>zgn vuurxwvmrt</td>\n",
       "      <td>fb46a1a2752f5f652ce634f6178d0578ef6995ee59f6c8...</td>\n",
       "      <td>2019.0</td>\n",
       "      <td>5100000</td>\n",
       "      <td>NaN</td>\n",
       "      <td>2019.0</td>\n",
       "    </tr>\n",
       "    <tr>\n",
       "      <th>205842</th>\n",
       "      <td>206922</td>\n",
       "      <td>bgqsvz onvzrtj</td>\n",
       "      <td>0bcfc1d05f2e8dc4147743a1313aa70a119b41b30d4a1f...</td>\n",
       "      <td>2014.0</td>\n",
       "      <td>1240000</td>\n",
       "      <td>NaN</td>\n",
       "      <td>2016.0</td>\n",
       "    </tr>\n",
       "  </tbody>\n",
       "</table>\n",
       "<p>205843 rows × 7 columns</p>\n",
       "</div>"
      ],
      "text/plain": [
       "        Unnamed: 0               company_hash  \\\n",
       "0                0             atrgxnnt xzaxv   \n",
       "1                1  qtrxvzwt xzegwgbb rxbxnta   \n",
       "2                2              ojzwnvwnxw vx   \n",
       "3                3                  ngpgutaxv   \n",
       "4                4                 qxen sqghu   \n",
       "...            ...                        ...   \n",
       "205838      206918                  vuurt xzw   \n",
       "205839      206919                  husqvawgb   \n",
       "205840      206920                   vwwgrxnt   \n",
       "205841      206921             zgn vuurxwvmrt   \n",
       "205842      206922             bgqsvz onvzrtj   \n",
       "\n",
       "                                               email_hash  orgyear      ctc  \\\n",
       "0       6de0a4417d18ab14334c3f43397fc13b30c35149d70c05...   2016.0  1100000   \n",
       "1       b0aaf1ac138b53cb6e039ba2c3d6604a250d02d5145c10...   2018.0   449999   \n",
       "2       4860c670bcd48fb96c02a4b0ae3608ae6fdd98176112e9...   2015.0  2000000   \n",
       "3       effdede7a2e7c2af664c8a31d9346385016128d66bbc58...   2017.0   700000   \n",
       "4       6ff54e709262f55cb999a1c1db8436cb2055d8f79ab520...   2017.0  1400000   \n",
       "...                                                   ...      ...      ...   \n",
       "205838  70027b728c8ee901fe979533ed94ffda97be08fc23f33b...   2008.0   220000   \n",
       "205839  7f7292ffad724ebbe9ca860f515245368d714c84705b42...   2017.0   500000   \n",
       "205840  cb25cc7304e9a24facda7f5567c7922ffc48e3d5d6018c...   2021.0   700000   \n",
       "205841  fb46a1a2752f5f652ce634f6178d0578ef6995ee59f6c8...   2019.0  5100000   \n",
       "205842  0bcfc1d05f2e8dc4147743a1313aa70a119b41b30d4a1f...   2014.0  1240000   \n",
       "\n",
       "              job_position  ctc_updated_year  \n",
       "0                    Other            2020.0  \n",
       "1       FullStack Engineer            2019.0  \n",
       "2         Backend Engineer            2020.0  \n",
       "3         Backend Engineer            2019.0  \n",
       "4       FullStack Engineer            2019.0  \n",
       "...                    ...               ...  \n",
       "205838                 NaN            2019.0  \n",
       "205839                 NaN            2020.0  \n",
       "205840                 NaN            2021.0  \n",
       "205841                 NaN            2019.0  \n",
       "205842                 NaN            2016.0  \n",
       "\n",
       "[205843 rows x 7 columns]"
      ]
     },
     "execution_count": 40,
     "metadata": {},
     "output_type": "execute_result"
    }
   ],
   "source": [
    "import pandas as pd\n",
    "df = pd.read_csv('Data_Scaler.csv')\n",
    "df"
   ]
  },
  {
   "cell_type": "code",
   "execution_count": 30,
   "id": "45b32ff5-c00c-40e4-ba86-8e11cd4e64ec",
   "metadata": {},
   "outputs": [
    {
     "data": {
      "text/plain": [
       "Index(['Unnamed: 0', 'company_hash', 'email_hash', 'orgyear', 'ctc',\n",
       "       'job_position', 'ctc_updated_year'],\n",
       "      dtype='object')"
      ]
     },
     "execution_count": 30,
     "metadata": {},
     "output_type": "execute_result"
    }
   ],
   "source": [
    "df.columns"
   ]
  },
  {
   "cell_type": "code",
   "execution_count": 41,
   "id": "cb4e8712-e464-443a-be39-df7eecda25a9",
   "metadata": {},
   "outputs": [],
   "source": [
    "df.drop(columns=['Unnamed: 0', 'email_hash'], inplace=True)"
   ]
  },
  {
   "cell_type": "code",
   "execution_count": 42,
   "id": "a813fbaf-49b6-4bc3-981b-3932a4fd1e08",
   "metadata": {},
   "outputs": [],
   "source": [
    "df.rename(columns={'orgyear':'org_join_year'}, inplace=True)"
   ]
  },
  {
   "cell_type": "code",
   "execution_count": 5,
   "id": "61f481d7-9584-4447-96ff-3c3b2e80e61e",
   "metadata": {},
   "outputs": [
    {
     "name": "stdout",
     "output_type": "stream",
     "text": [
      "<class 'pandas.core.frame.DataFrame'>\n",
      "RangeIndex: 205843 entries, 0 to 205842\n",
      "Data columns (total 5 columns):\n",
      " #   Column            Non-Null Count   Dtype  \n",
      "---  ------            --------------   -----  \n",
      " 0   company_hash      205799 non-null  object \n",
      " 1   org_join_year     205757 non-null  float64\n",
      " 2   ctc               205843 non-null  int64  \n",
      " 3   job_position      153281 non-null  object \n",
      " 4   ctc_updated_year  205843 non-null  float64\n",
      "dtypes: float64(2), int64(1), object(2)\n",
      "memory usage: 7.9+ MB\n"
     ]
    }
   ],
   "source": [
    "df.info()"
   ]
  },
  {
   "cell_type": "code",
   "execution_count": 6,
   "id": "399c7781-4ec7-4b08-8d24-562af48836de",
   "metadata": {
    "scrolled": true
   },
   "outputs": [
    {
     "data": {
      "text/plain": [
       "company_hash         0.02\n",
       "org_join_year        0.04\n",
       "ctc                  0.00\n",
       "job_position        25.53\n",
       "ctc_updated_year     0.00\n",
       "dtype: float64"
      ]
     },
     "execution_count": 6,
     "metadata": {},
     "output_type": "execute_result"
    }
   ],
   "source": [
    "(df.isna().mean() * 100).round(2)"
   ]
  },
  {
   "cell_type": "code",
   "execution_count": 7,
   "id": "9b38078c-c269-43c2-b8e1-7e86363db44b",
   "metadata": {},
   "outputs": [
    {
     "data": {
      "text/plain": [
       "company_hash        37299\n",
       "org_join_year          77\n",
       "ctc                  3360\n",
       "job_position         1017\n",
       "ctc_updated_year        7\n",
       "dtype: int64"
      ]
     },
     "execution_count": 7,
     "metadata": {},
     "output_type": "execute_result"
    }
   ],
   "source": [
    "df.nunique()"
   ]
  },
  {
   "cell_type": "code",
   "execution_count": 8,
   "id": "7c537b6b-11f9-438d-beae-b2fe8af6b0a8",
   "metadata": {},
   "outputs": [
    {
     "data": {
      "text/html": [
       "<div>\n",
       "<style scoped>\n",
       "    .dataframe tbody tr th:only-of-type {\n",
       "        vertical-align: middle;\n",
       "    }\n",
       "\n",
       "    .dataframe tbody tr th {\n",
       "        vertical-align: top;\n",
       "    }\n",
       "\n",
       "    .dataframe thead th {\n",
       "        text-align: right;\n",
       "    }\n",
       "</style>\n",
       "<table border=\"1\" class=\"dataframe\">\n",
       "  <thead>\n",
       "    <tr style=\"text-align: right;\">\n",
       "      <th></th>\n",
       "      <th>org_join_year</th>\n",
       "      <th>ctc</th>\n",
       "      <th>ctc_updated_year</th>\n",
       "    </tr>\n",
       "  </thead>\n",
       "  <tbody>\n",
       "    <tr>\n",
       "      <th>count</th>\n",
       "      <td>205757.000000</td>\n",
       "      <td>2.058430e+05</td>\n",
       "      <td>205843.000000</td>\n",
       "    </tr>\n",
       "    <tr>\n",
       "      <th>mean</th>\n",
       "      <td>2014.882750</td>\n",
       "      <td>2.271685e+06</td>\n",
       "      <td>2019.628231</td>\n",
       "    </tr>\n",
       "    <tr>\n",
       "      <th>std</th>\n",
       "      <td>63.571115</td>\n",
       "      <td>1.180091e+07</td>\n",
       "      <td>1.325104</td>\n",
       "    </tr>\n",
       "    <tr>\n",
       "      <th>min</th>\n",
       "      <td>0.000000</td>\n",
       "      <td>2.000000e+00</td>\n",
       "      <td>2015.000000</td>\n",
       "    </tr>\n",
       "    <tr>\n",
       "      <th>25%</th>\n",
       "      <td>2013.000000</td>\n",
       "      <td>5.300000e+05</td>\n",
       "      <td>2019.000000</td>\n",
       "    </tr>\n",
       "    <tr>\n",
       "      <th>50%</th>\n",
       "      <td>2016.000000</td>\n",
       "      <td>9.500000e+05</td>\n",
       "      <td>2020.000000</td>\n",
       "    </tr>\n",
       "    <tr>\n",
       "      <th>75%</th>\n",
       "      <td>2018.000000</td>\n",
       "      <td>1.700000e+06</td>\n",
       "      <td>2021.000000</td>\n",
       "    </tr>\n",
       "    <tr>\n",
       "      <th>max</th>\n",
       "      <td>20165.000000</td>\n",
       "      <td>1.000150e+09</td>\n",
       "      <td>2021.000000</td>\n",
       "    </tr>\n",
       "  </tbody>\n",
       "</table>\n",
       "</div>"
      ],
      "text/plain": [
       "       org_join_year           ctc  ctc_updated_year\n",
       "count  205757.000000  2.058430e+05     205843.000000\n",
       "mean     2014.882750  2.271685e+06       2019.628231\n",
       "std        63.571115  1.180091e+07          1.325104\n",
       "min         0.000000  2.000000e+00       2015.000000\n",
       "25%      2013.000000  5.300000e+05       2019.000000\n",
       "50%      2016.000000  9.500000e+05       2020.000000\n",
       "75%      2018.000000  1.700000e+06       2021.000000\n",
       "max     20165.000000  1.000150e+09       2021.000000"
      ]
     },
     "execution_count": 8,
     "metadata": {},
     "output_type": "execute_result"
    }
   ],
   "source": [
    "df.describe()"
   ]
  },
  {
   "cell_type": "code",
   "execution_count": 9,
   "id": "1d875cab-85e7-4ff1-9715-c404d4fc2feb",
   "metadata": {},
   "outputs": [
    {
     "data": {
      "text/html": [
       "<div>\n",
       "<style scoped>\n",
       "    .dataframe tbody tr th:only-of-type {\n",
       "        vertical-align: middle;\n",
       "    }\n",
       "\n",
       "    .dataframe tbody tr th {\n",
       "        vertical-align: top;\n",
       "    }\n",
       "\n",
       "    .dataframe thead th {\n",
       "        text-align: right;\n",
       "    }\n",
       "</style>\n",
       "<table border=\"1\" class=\"dataframe\">\n",
       "  <thead>\n",
       "    <tr style=\"text-align: right;\">\n",
       "      <th></th>\n",
       "      <th>company_hash</th>\n",
       "      <th>job_position</th>\n",
       "    </tr>\n",
       "  </thead>\n",
       "  <tbody>\n",
       "    <tr>\n",
       "      <th>count</th>\n",
       "      <td>205799</td>\n",
       "      <td>153281</td>\n",
       "    </tr>\n",
       "    <tr>\n",
       "      <th>unique</th>\n",
       "      <td>37299</td>\n",
       "      <td>1017</td>\n",
       "    </tr>\n",
       "    <tr>\n",
       "      <th>top</th>\n",
       "      <td>nvnv wgzohrnvzwj otqcxwto</td>\n",
       "      <td>Backend Engineer</td>\n",
       "    </tr>\n",
       "    <tr>\n",
       "      <th>freq</th>\n",
       "      <td>8337</td>\n",
       "      <td>43554</td>\n",
       "    </tr>\n",
       "  </tbody>\n",
       "</table>\n",
       "</div>"
      ],
      "text/plain": [
       "                     company_hash      job_position\n",
       "count                      205799            153281\n",
       "unique                      37299              1017\n",
       "top     nvnv wgzohrnvzwj otqcxwto  Backend Engineer\n",
       "freq                         8337             43554"
      ]
     },
     "execution_count": 9,
     "metadata": {},
     "output_type": "execute_result"
    }
   ],
   "source": [
    "df.describe(include='object')"
   ]
  },
  {
   "cell_type": "code",
   "execution_count": null,
   "id": "6970c34e-08f3-4e86-95a9-2f41ef6b1685",
   "metadata": {},
   "outputs": [],
   "source": [
    "# Outliers Treatment"
   ]
  },
  {
   "cell_type": "code",
   "execution_count": 44,
   "id": "a368db01-687a-44e2-afae-d1d2d3889b94",
   "metadata": {},
   "outputs": [
    {
     "data": {
      "text/plain": [
       "2026.0     9\n",
       "2031.0     5\n",
       "2029.0     5\n",
       "2028.0     4\n",
       "20165.0    2\n",
       "2106.0     1\n",
       "2101.0     1\n",
       "2107.0     1\n",
       "2027.0     1\n",
       "2204.0     1\n",
       "Name: org_join_year, dtype: int64"
      ]
     },
     "execution_count": 44,
     "metadata": {},
     "output_type": "execute_result"
    }
   ],
   "source": [
    "df[df['org_join_year']>2025]['org_join_year'].value_counts()"
   ]
  },
  {
   "cell_type": "code",
   "execution_count": 45,
   "id": "aa7f0918-fe78-402c-825c-b20f633cbbe1",
   "metadata": {},
   "outputs": [
    {
     "data": {
      "text/plain": [
       "0.0       17\n",
       "3.0        6\n",
       "91.0       3\n",
       "2.0        3\n",
       "5.0        2\n",
       "1.0        2\n",
       "6.0        2\n",
       "208.0      1\n",
       "209.0      1\n",
       "206.0      1\n",
       "4.0        1\n",
       "83.0       1\n",
       "38.0       1\n",
       "1900.0     1\n",
       "201.0      1\n",
       "200.0      1\n",
       "Name: org_join_year, dtype: int64"
      ]
     },
     "execution_count": 45,
     "metadata": {},
     "output_type": "execute_result"
    }
   ],
   "source": [
    "df[df['org_join_year']<1970]['org_join_year'].value_counts()"
   ]
  },
  {
   "cell_type": "code",
   "execution_count": 46,
   "id": "aaa6da87-61ea-4b44-b881-7da9fd0de78c",
   "metadata": {},
   "outputs": [],
   "source": [
    "df = df[df['org_join_year'].between(1997, 2025)]"
   ]
  },
  {
   "cell_type": "code",
   "execution_count": null,
   "id": "45c2d3e6-c695-47be-bd44-639d967702d1",
   "metadata": {},
   "outputs": [],
   "source": []
  },
  {
   "cell_type": "code",
   "execution_count": 13,
   "id": "95776e1f-2fa1-4e78-b421-0d6826a72d8c",
   "metadata": {},
   "outputs": [
    {
     "data": {
      "text/plain": [
       "(2, 1000150000)"
      ]
     },
     "execution_count": 13,
     "metadata": {},
     "output_type": "execute_result"
    }
   ],
   "source": [
    "df['ctc'].min(), df['ctc'].max()"
   ]
  },
  {
   "cell_type": "code",
   "execution_count": 14,
   "id": "eb59db5d-1c8a-43f8-8fe6-a02cf1060c26",
   "metadata": {},
   "outputs": [
    {
     "data": {
      "text/plain": [
       "37000.0"
      ]
     },
     "execution_count": 14,
     "metadata": {},
     "output_type": "execute_result"
    }
   ],
   "source": [
    "df[\"ctc\"].quantile(0.01)"
   ]
  },
  {
   "cell_type": "code",
   "execution_count": 15,
   "id": "a3eb4e72-1e8c-4d14-ae3f-63dd2ec5dbd0",
   "metadata": {},
   "outputs": [
    {
     "data": {
      "text/plain": [
       "12500000.0"
      ]
     },
     "execution_count": 15,
     "metadata": {},
     "output_type": "execute_result"
    }
   ],
   "source": [
    "df[\"ctc\"].quantile(0.99)"
   ]
  },
  {
   "cell_type": "code",
   "execution_count": 51,
   "id": "891ff77f-2132-4e22-a42b-68f7d080ee68",
   "metadata": {},
   "outputs": [
    {
     "data": {
      "text/plain": [
       "10000    156\n",
       "20000    120\n",
       "30000     94\n",
       "12000     64\n",
       "15000     57\n",
       "        ... \n",
       "28200      1\n",
       "4700       1\n",
       "6400       1\n",
       "15100      1\n",
       "33740      1\n",
       "Name: ctc, Length: 244, dtype: int64"
      ]
     },
     "execution_count": 51,
     "metadata": {},
     "output_type": "execute_result"
    }
   ],
   "source": [
    "df[df['ctc']<df[\"ctc\"].quantile(0.01)]['ctc'].value_counts()"
   ]
  },
  {
   "cell_type": "code",
   "execution_count": 16,
   "id": "158c05ef-1686-431c-ae56-c794eb850690",
   "metadata": {},
   "outputs": [
    {
     "data": {
      "text/plain": [
       "100000000    528\n",
       "200000000    374\n",
       "20000000      55\n",
       "50000000      47\n",
       "15000000      31\n",
       "            ... \n",
       "31300000       1\n",
       "43500000       1\n",
       "80800000       1\n",
       "58900000       1\n",
       "67300000       1\n",
       "Name: ctc, Length: 408, dtype: int64"
      ]
     },
     "execution_count": 16,
     "metadata": {},
     "output_type": "execute_result"
    }
   ],
   "source": [
    "df[df['ctc']>df[\"ctc\"].quantile(0.99)]['ctc'].value_counts()"
   ]
  },
  {
   "cell_type": "code",
   "execution_count": 17,
   "id": "1f13611a-f7bb-4383-b03e-fcced69b7899",
   "metadata": {},
   "outputs": [
    {
     "name": "stdout",
     "output_type": "stream",
     "text": [
      "530000.0 1700000.0 1170000.0 -1225000.0 3455000.0\n"
     ]
    }
   ],
   "source": [
    "Q1 = df[\"ctc\"].quantile(0.25)\n",
    "Q3 = df[\"ctc\"].quantile(0.75)\n",
    "IQR = Q3-Q1\n",
    "lower = Q1 - 1.5 * IQR\n",
    "upper = Q3 + 1.5 * IQR\n",
    "print(Q1,Q3,IQR,lower,upper)"
   ]
  },
  {
   "cell_type": "code",
   "execution_count": null,
   "id": "f233e673-a943-4921-9d80-15a900f4d47d",
   "metadata": {},
   "outputs": [],
   "source": []
  },
  {
   "cell_type": "code",
   "execution_count": null,
   "id": "aabec0f4-ff69-4d73-88ba-20898eb0821f",
   "metadata": {},
   "outputs": [],
   "source": []
  },
  {
   "cell_type": "code",
   "execution_count": 65,
   "id": "7715c46a-56a0-448f-b0a4-44ccbbab779e",
   "metadata": {},
   "outputs": [
    {
     "data": {
      "image/png": "[encoded data removed]",
      "text/plain": [
       "<Figure size 640x480 with 1 Axes>"
      ]
     },
     "metadata": {},
     "output_type": "display_data"
    }
   ],
   "source": [
    "import seaborn as sns\n",
    "import matplotlib.pyplot as plt\n",
    "\n",
    "sns.countplot(x='ctc', data=df)\n",
    "plt.show()"
   ]
  },
  {
   "cell_type": "code",
   "execution_count": 47,
   "id": "066dfe02-3461-40bd-81ae-33b1b292898a",
   "metadata": {},
   "outputs": [
    {
     "data": {
      "image/png": "[encoded data removed]",
      "text/plain": [
       "<Figure size 1200x600 with 1 Axes>"
      ]
     },
     "metadata": {},
     "output_type": "display_data"
    }
   ],
   "source": [
    "import numpy as np\n",
    "import pandas as pd\n",
    "import seaborn as sns\n",
    "import matplotlib.pyplot as plt\n",
    "\n",
    "# If df is a slice, reset to avoid SettingWithCopyWarning\n",
    "df = df.copy()\n",
    "\n",
    "# Scale CTC\n",
    "df.loc[:, 'ctc'] = df['ctc'] / 10**5\n",
    "\n",
    "# Clip CTC between 0 and 99th percentile\n",
    "lower = df['ctc'].quantile(0.00)\n",
    "upper = df['ctc'].quantile(0.99)\n",
    "\n",
    "# bring outliers to lower and upper value\n",
    "df.loc[:, 'ctc_clipped'] = df['ctc'].clip(lower, upper)  \n",
    "# Create 50 bins\n",
    "df['ctc_binned'] = pd.cut(df['ctc_clipped'], bins=50)\n",
    "\n",
    "# Plot\n",
    "plt.figure(figsize=(12, 6))\n",
    "sns.countplot(x='ctc_binned', data=df)\n",
    "plt.xticks(rotation=45, ha='right')\n",
    "plt.title('Binned CTC Distribution (Clipped 0–99th Percentile)')\n",
    "plt.xlabel('CTC Range (LPA)')\n",
    "plt.ylabel('Count')\n",
    "plt.tight_layout()\n",
    "plt.show()\n"
   ]
  },
  {
   "cell_type": "code",
   "execution_count": 50,
   "id": "1d85664b-fb20-4646-a09a-d57fa7621003",
   "metadata": {},
   "outputs": [
    {
     "data": {
      "image/png": "[encoded data removed]",
      "text/plain": [
       "<Figure size 1200x500 with 1 Axes>"
      ]
     },
     "metadata": {},
     "output_type": "display_data"
    }
   ],
   "source": [
    "df['ctc_log'] = np.log1p(df['ctc'])\n",
    "import seaborn as sns\n",
    "import matplotlib.pyplot as plt\n",
    "\n",
    "plt.figure(figsize=(12,5))\n",
    "sns.histplot(df['ctc_log'], kde=True)\n",
    "plt.title('Log-Transformed CTC Distribution')\n",
    "plt.show()"
   ]
  },
  {
   "cell_type": "code",
   "execution_count": 72,
   "id": "53e0a090-4f47-41bc-94b6-2ea9b808bfb3",
   "metadata": {},
   "outputs": [
    {
     "data": {
      "image/png": "[encoded data removed]",
      "text/plain": [
       "<Figure size 1000x500 with 1 Axes>"
      ]
     },
     "metadata": {},
     "output_type": "display_data"
    }
   ],
   "source": [
    "# 🌲 Isolation Forest\n",
    "# Machine learning-based anomaly detection technique.\n",
    "# Works by isolating observations in a tree structure.\n",
    "# Multivariate: can detect outliers in high-dimensional feature space.\n",
    "# Doesn’t assume normal distribution.\n",
    "\n",
    "# ✅ Good when:\n",
    "# You have complex or high-dimensional data.\n",
    "# Anomalies are not just high/low values but strange combinations.\n",
    "\n",
    "import numpy as np\n",
    "import pandas as pd\n",
    "import matplotlib.pyplot as plt\n",
    "from sklearn.ensemble import IsolationForest\n",
    "import seaborn as sns\n",
    "\n",
    "# Create synthetic data\n",
    "np.random.seed(42)\n",
    "normal_data = np.random.normal(loc=50, scale=5, size=200)  # Normal data\n",
    "anomalies = np.random.uniform(low=80, high=100, size=10)    # Anomalies\n",
    "data = np.concatenate([normal_data, anomalies])\n",
    "\n",
    "# Convert to DataFrame\n",
    "df1 = pd.DataFrame(data, columns=['value'])\n",
    "\n",
    "# Fit Isolation Forest\n",
    "iso_forest = IsolationForest(contamination=0.05, random_state=42)\n",
    "df1['anomaly'] = iso_forest.fit_predict(df1[['value']])  # -1: anomaly, 1: normal\n",
    "df1['anomaly'] = df1['anomaly'].map({1: 'normal', -1: 'anomaly'})\n",
    "\n",
    "# Visualize\n",
    "plt.figure(figsize=(10, 5))\n",
    "sns.histplot(data=df1, x='value', hue='anomaly', bins=30, kde=True, palette={'normal': 'green', 'anomaly': 'red'})\n",
    "plt.title('Anomaly Detection with Isolation Forest')\n",
    "plt.xlabel('Value')\n",
    "plt.ylabel('Frequency')\n",
    "plt.tight_layout()\n",
    "plt.show()"
   ]
  },
  {
   "cell_type": "code",
   "execution_count": 81,
   "id": "3877947c-3bd9-49a2-959c-08c4976bd535",
   "metadata": {},
   "outputs": [
    {
     "data": {
      "image/png": "[encoded data removed]",
      "text/plain": [
       "<Figure size 640x480 with 1 Axes>"
      ]
     },
     "metadata": {},
     "output_type": "display_data"
    }
   ],
   "source": [
    "sns.countplot(x='org_join_year', data=df)\n",
    "plt.xticks(rotation = 90)\n",
    "plt.show()"
   ]
  },
  {
   "cell_type": "code",
   "execution_count": 82,
   "id": "462476de-6656-4f4d-b204-9200c8e06232",
   "metadata": {},
   "outputs": [
    {
     "data": {
      "image/png": "[encoded data removed]",
      "text/plain": [
       "<Figure size 640x480 with 1 Axes>"
      ]
     },
     "metadata": {},
     "output_type": "display_data"
    }
   ],
   "source": [
    "sns.countplot(x='ctc_updated_year', data=df)\n",
    "plt.xticks(rotation = 90)\n",
    "plt.show()"
   ]
  },
  {
   "cell_type": "code",
   "execution_count": null,
   "id": "4b10743e-5b18-4ef0-b5ba-7dc8d79a4e90",
   "metadata": {},
   "outputs": [],
   "source": []
  },
  {
   "cell_type": "markdown",
   "id": "08fe44a0-2c6a-44cc-8e30-6d21e9f3666f",
   "metadata": {
    "jp-MarkdownHeadingCollapsed": true
   },
   "source": [
    "### String Columns Processing"
   ]
  },
  {
   "cell_type": "code",
   "execution_count": 52,
   "id": "b62bc042-c11f-46eb-8c29-6f4197211153",
   "metadata": {},
   "outputs": [
    {
     "data": {
      "text/plain": [
       "'airtel x labs'"
      ]
     },
     "execution_count": 52,
     "metadata": {},
     "output_type": "execute_result"
    }
   ],
   "source": [
    "import re\n",
    "def preprocess_string(string):\n",
    " new_string= re.sub('[^A-Za-z ]+', '', string).lower().strip()\n",
    " return new_string\n",
    "\n",
    "mystring='\\tAirtel\\\\\\\\&&**() X Labs'\n",
    "preprocess_string(mystring)"
   ]
  },
  {
   "cell_type": "code",
   "execution_count": 53,
   "id": "5a732d79-acfc-4033-8e38-1d8ac9bfec0a",
   "metadata": {},
   "outputs": [
    {
     "data": {
      "text/plain": [
       "36982"
      ]
     },
     "execution_count": 53,
     "metadata": {},
     "output_type": "execute_result"
    }
   ],
   "source": [
    "df[\"company_hash\"] = df[\"company_hash\"].apply(lambda x: preprocess_string(str(x)))\n",
    "df[\"company_hash\"].nunique()"
   ]
  },
  {
   "cell_type": "code",
   "execution_count": 63,
   "id": "1acbdddc-597d-44d0-9672-3f6a7b8f4c53",
   "metadata": {},
   "outputs": [
    {
     "data": {
      "text/plain": [
       "856"
      ]
     },
     "execution_count": 63,
     "metadata": {},
     "output_type": "execute_result"
    }
   ],
   "source": [
    "df[\"job_position\"] = df[\"job_position\"].apply(lambda x: preprocess_string(str(x)))\n",
    "df[\"job_position\"].nunique()"
   ]
  },
  {
   "cell_type": "code",
   "execution_count": null,
   "id": "62e636ae-0c03-4b84-846f-e5929dafd02d",
   "metadata": {},
   "outputs": [],
   "source": [
    "# removing the records where company or job_position reocords are not available "
   ]
  },
  {
   "cell_type": "code",
   "execution_count": 66,
   "id": "d624ff95-bc9c-429d-9c19-873a19345ace",
   "metadata": {},
   "outputs": [
    {
     "data": {
      "text/plain": [
       "96"
      ]
     },
     "execution_count": 66,
     "metadata": {},
     "output_type": "execute_result"
    }
   ],
   "source": [
    "len(df[((df[\"company_hash\"] == \"\") | (df[\"job_position\"] == \"\"))])"
   ]
  },
  {
   "cell_type": "code",
   "execution_count": 70,
   "id": "eeccc6ff-7eb4-4e5e-b2ca-911c99a246f6",
   "metadata": {},
   "outputs": [
    {
     "data": {
      "text/plain": [
       "52425"
      ]
     },
     "execution_count": 70,
     "metadata": {},
     "output_type": "execute_result"
    }
   ],
   "source": [
    "len(df[((df[\"company_hash\"] == \"nan\") | (df[\"job_position\"] == \"nan\"))])"
   ]
  },
  {
   "cell_type": "code",
   "execution_count": 71,
   "id": "bd4cc922-865c-4323-be44-9c644cff871c",
   "metadata": {},
   "outputs": [
    {
     "data": {
      "text/html": [
       "<div>\n",
       "<style scoped>\n",
       "    .dataframe tbody tr th:only-of-type {\n",
       "        vertical-align: middle;\n",
       "    }\n",
       "\n",
       "    .dataframe tbody tr th {\n",
       "        vertical-align: top;\n",
       "    }\n",
       "\n",
       "    .dataframe thead th {\n",
       "        text-align: right;\n",
       "    }\n",
       "</style>\n",
       "<table border=\"1\" class=\"dataframe\">\n",
       "  <thead>\n",
       "    <tr style=\"text-align: right;\">\n",
       "      <th></th>\n",
       "      <th>company_hash</th>\n",
       "      <th>org_join_year</th>\n",
       "      <th>ctc</th>\n",
       "      <th>job_position</th>\n",
       "      <th>ctc_updated_year</th>\n",
       "      <th>ctc_clipped</th>\n",
       "      <th>ctc_binned</th>\n",
       "      <th>ctc_log</th>\n",
       "    </tr>\n",
       "  </thead>\n",
       "  <tbody>\n",
       "    <tr>\n",
       "      <th>0</th>\n",
       "      <td>atrgxnnt xzaxv</td>\n",
       "      <td>2016.0</td>\n",
       "      <td>11.00000</td>\n",
       "      <td>other</td>\n",
       "      <td>2020.0</td>\n",
       "      <td>11.00000</td>\n",
       "      <td>(10.0, 12.5]</td>\n",
       "      <td>2.484907</td>\n",
       "    </tr>\n",
       "    <tr>\n",
       "      <th>1</th>\n",
       "      <td>qtrxvzwt xzegwgbb rxbxnta</td>\n",
       "      <td>2018.0</td>\n",
       "      <td>4.49999</td>\n",
       "      <td>fullstack engineer</td>\n",
       "      <td>2019.0</td>\n",
       "      <td>4.49999</td>\n",
       "      <td>(2.5, 5.0]</td>\n",
       "      <td>1.704746</td>\n",
       "    </tr>\n",
       "    <tr>\n",
       "      <th>2</th>\n",
       "      <td>ojzwnvwnxw vx</td>\n",
       "      <td>2015.0</td>\n",
       "      <td>20.00000</td>\n",
       "      <td>backend engineer</td>\n",
       "      <td>2020.0</td>\n",
       "      <td>20.00000</td>\n",
       "      <td>(17.5, 20.0]</td>\n",
       "      <td>3.044522</td>\n",
       "    </tr>\n",
       "    <tr>\n",
       "      <th>3</th>\n",
       "      <td>ngpgutaxv</td>\n",
       "      <td>2017.0</td>\n",
       "      <td>7.00000</td>\n",
       "      <td>backend engineer</td>\n",
       "      <td>2019.0</td>\n",
       "      <td>7.00000</td>\n",
       "      <td>(5.0, 7.5]</td>\n",
       "      <td>2.079442</td>\n",
       "    </tr>\n",
       "    <tr>\n",
       "      <th>4</th>\n",
       "      <td>qxen sqghu</td>\n",
       "      <td>2017.0</td>\n",
       "      <td>14.00000</td>\n",
       "      <td>fullstack engineer</td>\n",
       "      <td>2019.0</td>\n",
       "      <td>14.00000</td>\n",
       "      <td>(12.5, 15.0]</td>\n",
       "      <td>2.708050</td>\n",
       "    </tr>\n",
       "    <tr>\n",
       "      <th>...</th>\n",
       "      <td>...</td>\n",
       "      <td>...</td>\n",
       "      <td>...</td>\n",
       "      <td>...</td>\n",
       "      <td>...</td>\n",
       "      <td>...</td>\n",
       "      <td>...</td>\n",
       "      <td>...</td>\n",
       "    </tr>\n",
       "    <tr>\n",
       "      <th>205324</th>\n",
       "      <td>wos xzntqzvnxgzvr</td>\n",
       "      <td>2016.0</td>\n",
       "      <td>15.00000</td>\n",
       "      <td>fullstack engineer</td>\n",
       "      <td>2021.0</td>\n",
       "      <td>15.00000</td>\n",
       "      <td>(12.5, 15.0]</td>\n",
       "      <td>2.772589</td>\n",
       "    </tr>\n",
       "    <tr>\n",
       "      <th>205326</th>\n",
       "      <td>xzegojo</td>\n",
       "      <td>2019.0</td>\n",
       "      <td>12.00000</td>\n",
       "      <td>fullstack engineer</td>\n",
       "      <td>2021.0</td>\n",
       "      <td>12.00000</td>\n",
       "      <td>(10.0, 12.5]</td>\n",
       "      <td>2.564949</td>\n",
       "    </tr>\n",
       "    <tr>\n",
       "      <th>205327</th>\n",
       "      <td>wgbuzgcv wgznqvwn</td>\n",
       "      <td>2015.0</td>\n",
       "      <td>10.00000</td>\n",
       "      <td>data scientist</td>\n",
       "      <td>2021.0</td>\n",
       "      <td>10.00000</td>\n",
       "      <td>(7.5, 10.0]</td>\n",
       "      <td>2.397895</td>\n",
       "    </tr>\n",
       "    <tr>\n",
       "      <th>205328</th>\n",
       "      <td>ahzzyhbmj</td>\n",
       "      <td>2019.0</td>\n",
       "      <td>11.00000</td>\n",
       "      <td>data scientist</td>\n",
       "      <td>2021.0</td>\n",
       "      <td>11.00000</td>\n",
       "      <td>(10.0, 12.5]</td>\n",
       "      <td>2.484907</td>\n",
       "    </tr>\n",
       "    <tr>\n",
       "      <th>205329</th>\n",
       "      <td>ertdnqvat ojontbo rbn</td>\n",
       "      <td>2017.0</td>\n",
       "      <td>11.00000</td>\n",
       "      <td>frontend engineer</td>\n",
       "      <td>2021.0</td>\n",
       "      <td>11.00000</td>\n",
       "      <td>(10.0, 12.5]</td>\n",
       "      <td>2.484907</td>\n",
       "    </tr>\n",
       "  </tbody>\n",
       "</table>\n",
       "<p>152602 rows × 8 columns</p>\n",
       "</div>"
      ],
      "text/plain": [
       "                     company_hash  org_join_year       ctc  \\\n",
       "0                  atrgxnnt xzaxv         2016.0  11.00000   \n",
       "1       qtrxvzwt xzegwgbb rxbxnta         2018.0   4.49999   \n",
       "2                   ojzwnvwnxw vx         2015.0  20.00000   \n",
       "3                       ngpgutaxv         2017.0   7.00000   \n",
       "4                      qxen sqghu         2017.0  14.00000   \n",
       "...                           ...            ...       ...   \n",
       "205324          wos xzntqzvnxgzvr         2016.0  15.00000   \n",
       "205326                    xzegojo         2019.0  12.00000   \n",
       "205327          wgbuzgcv wgznqvwn         2015.0  10.00000   \n",
       "205328                  ahzzyhbmj         2019.0  11.00000   \n",
       "205329      ertdnqvat ojontbo rbn         2017.0  11.00000   \n",
       "\n",
       "              job_position  ctc_updated_year  ctc_clipped    ctc_binned  \\\n",
       "0                    other            2020.0     11.00000  (10.0, 12.5]   \n",
       "1       fullstack engineer            2019.0      4.49999    (2.5, 5.0]   \n",
       "2         backend engineer            2020.0     20.00000  (17.5, 20.0]   \n",
       "3         backend engineer            2019.0      7.00000    (5.0, 7.5]   \n",
       "4       fullstack engineer            2019.0     14.00000  (12.5, 15.0]   \n",
       "...                    ...               ...          ...           ...   \n",
       "205324  fullstack engineer            2021.0     15.00000  (12.5, 15.0]   \n",
       "205326  fullstack engineer            2021.0     12.00000  (10.0, 12.5]   \n",
       "205327      data scientist            2021.0     10.00000   (7.5, 10.0]   \n",
       "205328      data scientist            2021.0     11.00000  (10.0, 12.5]   \n",
       "205329   frontend engineer            2021.0     11.00000  (10.0, 12.5]   \n",
       "\n",
       "         ctc_log  \n",
       "0       2.484907  \n",
       "1       1.704746  \n",
       "2       3.044522  \n",
       "3       2.079442  \n",
       "4       2.708050  \n",
       "...          ...  \n",
       "205324  2.772589  \n",
       "205326  2.564949  \n",
       "205327  2.397895  \n",
       "205328  2.484907  \n",
       "205329  2.484907  \n",
       "\n",
       "[152602 rows x 8 columns]"
      ]
     },
     "execution_count": 71,
     "metadata": {},
     "output_type": "execute_result"
    }
   ],
   "source": [
    "df = df[~((df[\"company_hash\"] == \"\") | (df[\"job_position\"] == \"\") | (df[\"company_hash\"] == \"nan\") | (df[\"job_position\"] == \"nan\"))]\n",
    "df"
   ]
  },
  {
   "cell_type": "code",
   "execution_count": null,
   "id": "88117bf5-fe32-4915-8d54-c97e922e873c",
   "metadata": {},
   "outputs": [],
   "source": []
  },
  {
   "cell_type": "code",
   "execution_count": null,
   "id": "1d6f0142-f537-418f-b8cf-7597cb6578da",
   "metadata": {},
   "outputs": [],
   "source": []
  },
  {
   "cell_type": "code",
   "execution_count": null,
   "id": "866a1486-ba07-4128-8d9d-087846428760",
   "metadata": {},
   "outputs": [],
   "source": []
  },
  {
   "cell_type": "code",
   "execution_count": null,
   "id": "8261c384-7b07-4cef-bda7-d639aa27cd0b",
   "metadata": {},
   "outputs": [],
   "source": []
  },
  {
   "cell_type": "markdown",
   "id": "659935f2-8331-4cb1-b032-655493a2668e",
   "metadata": {
    "jp-MarkdownHeadingCollapsed": true
   },
   "source": [
    "### Missing Value Treatment"
   ]
  },
  {
   "cell_type": "code",
   "execution_count": 122,
   "id": "e1a1d814-b55f-4dd1-bc47-ab691811d796",
   "metadata": {},
   "outputs": [],
   "source": [
    "df['job_position'] = df['job_position'].fillna('Others')\n",
    "df['company_hash'] = df['company_hash'].fillna('Others')"
   ]
  },
  {
   "cell_type": "markdown",
   "id": "58f74e39-afb5-4ace-9233-c5868f05490a",
   "metadata": {},
   "source": [
    "### Outliers Treatment"
   ]
  },
  {
   "cell_type": "markdown",
   "id": "39444b53-4f1e-4b05-b956-b687f85a0538",
   "metadata": {
    "jp-MarkdownHeadingCollapsed": true
   },
   "source": [
    "### Feature Engineering"
   ]
  },
  {
   "cell_type": "code",
   "execution_count": null,
   "id": "f2dc1749-056e-4917-af34-65fdd8a1ca85",
   "metadata": {},
   "outputs": [],
   "source": [
    "# Masked company name to \"Others\" having count less than 5"
   ]
  },
  {
   "cell_type": "code",
   "execution_count": 84,
   "id": "ee75fd87-56fc-4192-bedd-61587e8c6bc1",
   "metadata": {},
   "outputs": [],
   "source": [
    "df.loc[df.groupby(\"company_hash\")[\"ctc\"].transform(\"count\") < 5,\"company_hash\"] = \"Others\""
   ]
  },
  {
   "cell_type": "code",
   "execution_count": 85,
   "id": "38195f82-8a60-4da7-bdb9-421c13548d31",
   "metadata": {},
   "outputs": [
    {
     "data": {
      "text/plain": [
       "40449"
      ]
     },
     "execution_count": 85,
     "metadata": {},
     "output_type": "execute_result"
    }
   ],
   "source": [
    "(df[\"company_hash\"] == \"Others\").sum()"
   ]
  },
  {
   "cell_type": "code",
   "execution_count": 89,
   "id": "ec9f53d4-9495-4538-ad8d-db9017d21855",
   "metadata": {},
   "outputs": [
    {
     "data": {
      "text/plain": [
       "Others                       40449\n",
       "nvnv wgzohrnvzwj otqcxwto     5301\n",
       "xzegojo                       3442\n",
       "vbvkgz                        2575\n",
       "wgszxkvzn                     2095\n",
       "                             ...  \n",
       "zg                               5\n",
       "vqqgf trtwnqgzxwo                5\n",
       "bgmxogen xzegntwy                5\n",
       "lbq xzegntwy                     5\n",
       "qxkkrt                           5\n",
       "Name: company_hash, Length: 3035, dtype: int64"
      ]
     },
     "execution_count": 89,
     "metadata": {},
     "output_type": "execute_result"
    }
   ],
   "source": [
    "df['company_hash'].value_counts()"
   ]
  },
  {
   "cell_type": "code",
   "execution_count": 120,
   "id": "c4b2ff1e-af5b-4a93-9db7-aebd61c8d778",
   "metadata": {},
   "outputs": [],
   "source": [
    "df[\"experience_in_org\"] = 2025 - df[\"org_join_year\"]"
   ]
  },
  {
   "cell_type": "code",
   "execution_count": 121,
   "id": "0a5cd10c-cab1-4294-9aec-032e3b2bc665",
   "metadata": {},
   "outputs": [
    {
     "data": {
      "image/png": "[encoded data removed]",
      "text/plain": [
       "<Figure size 640x480 with 1 Axes>"
      ]
     },
     "metadata": {},
     "output_type": "display_data"
    }
   ],
   "source": [
    "sns.countplot(x='experience_in_org', data=df)\n",
    "plt.xticks(rotation = 90)\n",
    "plt.show()"
   ]
  },
  {
   "cell_type": "code",
   "execution_count": null,
   "id": "7e9fe8f8-d952-4104-bf64-a9904290b4af",
   "metadata": {},
   "outputs": [],
   "source": [
    "# Manual Clustering based on Company , Job position and Years of experience"
   ]
  },
  {
   "cell_type": "code",
   "execution_count": null,
   "id": "be0194d4-62c5-4f92-8c63-1831c19874cf",
   "metadata": {},
   "outputs": [],
   "source": []
  }
 ],
 "metadata": {
  "kernelspec": {
   "display_name": "Python 3 (ipykernel)",
   "language": "python",
   "name": "python3"
  },
  "language_info": {
   "codemirror_mode": {
    "name": "ipython",
    "version": 3
   },
   "file_extension": ".py",
   "mimetype": "text/x-python",
   "name": "python",
   "nbconvert_exporter": "python",
   "pygments_lexer": "ipython3",
   "version": "3.11.3"
  }
 },
 "nbformat": 4,
 "nbformat_minor": 5
}
